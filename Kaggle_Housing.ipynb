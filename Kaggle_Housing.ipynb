{
  "nbformat": 4,
  "nbformat_minor": 0,
  "metadata": {
    "colab": {
      "name": "Kaggle Housing.ipynb.txt",
      "version": "0.3.2",
      "provenance": []
    },
    "kernelspec": {
      "display_name": "Python 3",
      "language": "python",
      "name": "python3"
    }
  },
  "cells": [
    {
      "cell_type": "markdown",
      "metadata": {
        "id": "view-in-github",
        "colab_type": "text"
      },
      "source": [
        "[View in Colaboratory](https://colab.research.google.com/github/LaurenHa/Jupyter/blob/master/Kaggle_Housing.ipynb)"
      ]
    },
    {
      "metadata": {
        "id": "gIKuovD86TPd",
        "colab_type": "text"
      },
      "cell_type": "markdown",
      "source": [
        "## **Kaggle: Housing Price Prediction**\n",
        "\n",
        "LRH 26MAY18\n",
        "\n",
        "I have already done this competition using a number of methods: Linear Regression, Random Forest Regressor, and Lasso Regression. I recently discovered TPOT, which is an automated machine learning pipeline. This notebook is an upgrade of my prior work.\n",
        "\n",
        "My previous notebooks are not in Google Colab, because the linkage between Google Colab and GitHub is not ideal. This one IS in Google Colab so that I can work on the notebook no matter what computer I'm on, and not have to worry about local installations of packages.\n"
      ]
    },
    {
      "metadata": {
        "id": "pQSB52T47e30",
        "colab_type": "text"
      },
      "cell_type": "markdown",
      "source": [
        "###Step 1: Install TPOT"
      ]
    },
    {
      "metadata": {
        "id": "YDvGEYcMboXq",
        "colab_type": "code",
        "colab": {
          "base_uri": "https://localhost:8080/",
          "height": 612
        },
        "outputId": "43ea5bfe-6627-45a3-97d9-ae022a06be5f"
      },
      "cell_type": "code",
      "source": [
        "!pip install tpot"
      ],
      "execution_count": 1,
      "outputs": [
        {
          "output_type": "stream",
          "text": [
            "Collecting tpot\n",
            "\u001b[?25l  Downloading https://files.pythonhosted.org/packages/c4/e6/a41be0ddb23a411dc78b92f6a90b8129e65856a8248f8f11b2f14d8eeee3/TPOT-0.9.3.tar.gz (888kB)\n",
            "\u001b[K    100% |████████████████████████████████| 890kB 9.9MB/s \n",
            "\u001b[?25hRequirement already satisfied: numpy>=1.12.1 in /usr/local/lib/python3.6/dist-packages (from tpot) (1.14.3)\n",
            "Requirement already satisfied: scipy>=0.19.0 in /usr/local/lib/python3.6/dist-packages (from tpot) (0.19.1)\n",
            "Requirement already satisfied: scikit-learn>=0.18.1 in /usr/local/lib/python3.6/dist-packages (from tpot) (0.19.1)\n",
            "Collecting deap>=1.0 (from tpot)\n",
            "\u001b[?25l  Downloading https://files.pythonhosted.org/packages/af/29/e7f2ecbe02997b16a768baed076f5fc4781d7057cd5d9adf7c94027845ba/deap-1.2.2.tar.gz (936kB)\n",
            "\u001b[K    100% |████████████████████████████████| 942kB 9.3MB/s \n",
            "\u001b[?25hCollecting update_checker>=0.16 (from tpot)\n",
            "  Downloading https://files.pythonhosted.org/packages/17/c9/ab11855af164d03be0ff4fddd4c46a5bd44799a9ecc1770e01a669c21168/update_checker-0.16-py2.py3-none-any.whl\n",
            "Collecting tqdm>=4.11.2 (from tpot)\n",
            "\u001b[?25l  Downloading https://files.pythonhosted.org/packages/93/24/6ab1df969db228aed36a648a8959d1027099ce45fad67532b9673d533318/tqdm-4.23.4-py2.py3-none-any.whl (42kB)\n",
            "\u001b[K    100% |████████████████████████████████| 51kB 17.5MB/s \n",
            "\u001b[?25hCollecting stopit>=1.1.1 (from tpot)\n",
            "  Downloading https://files.pythonhosted.org/packages/35/58/e8bb0b0fb05baf07bbac1450c447d753da65f9701f551dca79823ce15d50/stopit-1.1.2.tar.gz\n",
            "Requirement already satisfied: pandas>=0.20.2 in /usr/local/lib/python3.6/dist-packages (from tpot) (0.22.0)\n",
            "Requirement already satisfied: requests>=2.3.0 in /usr/local/lib/python3.6/dist-packages (from update_checker>=0.16->tpot) (2.18.4)\n",
            "Requirement already satisfied: pytz>=2011k in /usr/local/lib/python3.6/dist-packages (from pandas>=0.20.2->tpot) (2018.4)\n",
            "Requirement already satisfied: python-dateutil>=2 in /usr/local/lib/python3.6/dist-packages (from pandas>=0.20.2->tpot) (2.5.3)\n",
            "Requirement already satisfied: idna<2.7,>=2.5 in /usr/local/lib/python3.6/dist-packages (from requests>=2.3.0->update_checker>=0.16->tpot) (2.6)\n",
            "Requirement already satisfied: urllib3<1.23,>=1.21.1 in /usr/local/lib/python3.6/dist-packages (from requests>=2.3.0->update_checker>=0.16->tpot) (1.22)\n",
            "Requirement already satisfied: certifi>=2017.4.17 in /usr/local/lib/python3.6/dist-packages (from requests>=2.3.0->update_checker>=0.16->tpot) (2018.4.16)\n",
            "Requirement already satisfied: chardet<3.1.0,>=3.0.2 in /usr/local/lib/python3.6/dist-packages (from requests>=2.3.0->update_checker>=0.16->tpot) (3.0.4)\n",
            "Requirement already satisfied: six>=1.5 in /usr/local/lib/python3.6/dist-packages (from python-dateutil>=2->pandas>=0.20.2->tpot) (1.11.0)\n",
            "Building wheels for collected packages: tpot, deap, stopit\n",
            "  Running setup.py bdist_wheel for tpot ... \u001b[?25l-\b \b\\\b \bdone\n",
            "\u001b[?25h  Stored in directory: /content/.cache/pip/wheels/00/f3/4d/8d28f69c59669ba720eebaa4ebc8a3b28da2a61662367b38e8\n",
            "  Running setup.py bdist_wheel for deap ... \u001b[?25l-\b \b\\\b \b|\b \b/\b \b-\b \b\\\b \b|\b \b/\b \b-\b \b\\\b \b|\b \bdone\n",
            "\u001b[?25h  Stored in directory: /content/.cache/pip/wheels/22/ea/bf/dc7c8a2262025a0ab5da9ef02282c198be88902791ca0c6658\n",
            "  Running setup.py bdist_wheel for stopit ... \u001b[?25l-\b \bdone\n",
            "\u001b[?25h  Stored in directory: /content/.cache/pip/wheels/3c/85/2b/2580190404636bfc63e8de3dff629c03bb795021e1983a6cc7\n",
            "Successfully built tpot deap stopit\n",
            "Installing collected packages: deap, update-checker, tqdm, stopit, tpot\n",
            "Successfully installed deap-1.2.2 stopit-1.1.2 tpot-0.9.3 tqdm-4.23.4 update-checker-0.16\n"
          ],
          "name": "stdout"
        }
      ]
    },
    {
      "metadata": {
        "id": "CflCCdn97lPe",
        "colab_type": "text"
      },
      "cell_type": "markdown",
      "source": [
        "###Step 2: Import the necessary packages and create a couple functions\n",
        "\n",
        "fullprint: Cleanly prints results. I created this after I found I couldn't view all columns in a dataframe by just vanilla-printing.\n",
        "\n",
        "rmsle: Score the prediction results as Kaggle does."
      ]
    },
    {
      "metadata": {
        "id": "LPfL3tjjbGuv",
        "colab_type": "code",
        "colab": {
          "base_uri": "https://localhost:8080/",
          "height": 17
        },
        "outputId": "54efe56c-b3f2-4a62-d576-d1836bfd87ea"
      },
      "cell_type": "code",
      "source": [
        "import io\n",
        "import csv\n",
        "import numpy as np\n",
        "import pandas as pd\n",
        "import statsmodels\n",
        "import matplotlib.pyplot as plt\n",
        "import seaborn as sns\n",
        "from sklearn.model_selection import train_test_split\n",
        "from patsy import dmatrices\n",
        "from sklearn.model_selection import cross_val_score, cross_val_predict\n",
        "from sklearn.preprocessing import StandardScaler\n",
        "from tpot import TPOTRegressor\n",
        "\n",
        "def fullprint(df):\n",
        "    with pd.option_context('display.max_rows', None, 'display.max_columns', None):\n",
        "        display(df)\n",
        "        \n",
        "def rmsle(y,y_pred):\n",
        "    assert len(y) == len(y_pred)\n",
        "    return np.sqrt(np.mean(np.power(np.log1p(y)-np.log1p(y_pred), 2)))"
      ],
      "execution_count": 30,
      "outputs": []
    },
    {
      "metadata": {
        "id": "PjkbZvo57-l-",
        "colab_type": "text"
      },
      "cell_type": "markdown",
      "source": [
        "###Step 3: Import the train and test datasets"
      ]
    },
    {
      "metadata": {
        "id": "3fakxYh4bQaY",
        "colab_type": "code",
        "colab": {
          "resources": {
            "http://localhost:8080/nbextensions/google.colab/files.js": {
              "data": "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",
              "ok": true,
              "headers": [
                [
                  "content-type",
                  "application/javascript"
                ]
              ],
              "status": 200,
              "status_text": ""
            }
          },
          "base_uri": "https://localhost:8080/",
          "height": 137
        },
        "outputId": "c6a2c8a9-c545-4718-ac10-8b112c3e642f"
      },
      "cell_type": "code",
      "source": [
        "from google.colab import files\n",
        "\n",
        "uploaded = files.upload()\n",
        "\n",
        "for fn in uploaded.keys():\n",
        "  print('User uploaded file \"{name}\" with length {length} bytes'.format(\n",
        "      name=fn, length=len(uploaded[fn])))"
      ],
      "execution_count": 3,
      "outputs": [
        {
          "output_type": "display_data",
          "data": {
            "text/html": [
              "\n",
              "     <input type=\"file\" id=\"files-46d014e4-d51e-433c-8c96-59c40a037630\" name=\"files[]\" multiple disabled />\n",
              "     <output id=\"result-46d014e4-d51e-433c-8c96-59c40a037630\">\n",
              "      Upload widget is only available when the cell has been executed in the\n",
              "      current browser session. Please rerun this cell to enable.\n",
              "      </output>\n",
              "      <script src=\"/nbextensions/google.colab/files.js\"></script> "
            ],
            "text/plain": [
              "<IPython.core.display.HTML object>"
            ]
          },
          "metadata": {
            "tags": []
          }
        },
        {
          "output_type": "stream",
          "text": [
            "Saving test.csv to test.csv\n",
            "Saving train.csv to train.csv\n",
            "User uploaded file \"test.csv\" with length 451405 bytes\n",
            "User uploaded file \"train.csv\" with length 460676 bytes\n"
          ],
          "name": "stdout"
        }
      ]
    },
    {
      "metadata": {
        "id": "o-1xxNQ9bGvK",
        "colab_type": "code",
        "colab": {
          "base_uri": "https://localhost:8080/",
          "height": 17
        },
        "outputId": "72128ddc-7d5b-4b7e-c461-ae63876c494f"
      },
      "cell_type": "code",
      "source": [
        "train = pd.read_csv(io.StringIO(uploaded['train.csv'].decode('utf-8')))\n",
        "test = pd.read_csv(io.StringIO(uploaded['test.csv'].decode('utf-8')))"
      ],
      "execution_count": 4,
      "outputs": []
    },
    {
      "metadata": {
        "id": "RA2Diasl8NiD",
        "colab_type": "text"
      },
      "cell_type": "markdown",
      "source": [
        "###Step 4: Some cleanup\n",
        "\n",
        "a. SalePrice has a non-normal distribution, but the log values do. I know this from my prior work with this dataset. Convert SalePrice to its log values.\n",
        "\n",
        "b. Categorical columns are viewed as objects. That needs to change.\n",
        "\n",
        "c. Fill in NaNs with MISSING for categoricals, and 0 for numericals.\n",
        "\n",
        "d. Convert categorical columns to numeric values. This is a MAJOR difference between my prior work and this notebook. I did a tremendous amount of data munging for the linear regression and random forest regression work I did before, and I wanted to see what kind of results I would get from TPOT if I didn't really do any data munging. This also means that I left out some of the fairly robust dimensionality reduction aspects as well. No correlation examination, no variance inflation factors.\n",
        "\n",
        "e. Scale all independent variables."
      ]
    },
    {
      "metadata": {
        "id": "8qqG-RqU8HUR",
        "colab_type": "code",
        "colab": {}
      },
      "cell_type": "code",
      "source": [
        "train['SalePrice'] = np.log(train['SalePrice'])\n",
        "\n",
        "categors = train.select_dtypes(['object']).columns\n",
        "\n",
        "def fill(df):\n",
        "    \n",
        "    numers=[i for i in df if i not in categors]\n",
        "    \n",
        "    for i,col in enumerate(categors):\n",
        "        df[col] = df[col].replace(np.nan,'MISSING')\n",
        "    \n",
        "    for i,col in enumerate(numers):\n",
        "        df[col] = df[col].replace(np.nan,0)\n",
        "               \n",
        "fill(train)\n",
        "fill(test)\n",
        "\n",
        "for col in categors:\n",
        "  train[col] = train[col].astype('category')\n",
        "  test[col] = test[col].astype('category')\n",
        "  \n",
        "train[categors] = train[categors].apply(lambda x: x.cat.codes)\n",
        "test[categors] = test[categors].apply(lambda x: x.cat.codes)\n",
        "\n",
        "sink = train.drop(columns=['SalePrice','Id'])\n",
        "vlist = sink.columns.values.tolist()\n",
        "\n",
        "scaler = StandardScaler()\n",
        "\n",
        "def scaleit(df):\n",
        "    scaler.fit(df[vlist])\n",
        "    scaled = scaler.transform(df[vlist])\n",
        "    for i, col in enumerate(vlist):\n",
        "        df[col] = scaled[:,i]\n",
        "  \n",
        "\n",
        "scaleit(train)\n",
        "scaleit(test)"
      ],
      "execution_count": 0,
      "outputs": []
    },
    {
      "metadata": {
        "id": "14BmKySf9oB_",
        "colab_type": "text"
      },
      "cell_type": "markdown",
      "source": [
        "Just a check to see how things look."
      ]
    },
    {
      "metadata": {
        "id": "nmTJWniri6Dz",
        "colab_type": "code",
        "colab": {
          "base_uri": "https://localhost:8080/",
          "height": 224
        },
        "outputId": "2a93ded1-6b70-464e-e775-05d7ef197a72"
      },
      "cell_type": "code",
      "source": [
        "fullprint(train.head())"
      ],
      "execution_count": 6,
      "outputs": [
        {
          "output_type": "display_data",
          "data": {
            "text/html": [
              "<div>\n",
              "<style scoped>\n",
              "    .dataframe tbody tr th:only-of-type {\n",
              "        vertical-align: middle;\n",
              "    }\n",
              "\n",
              "    .dataframe tbody tr th {\n",
              "        vertical-align: top;\n",
              "    }\n",
              "\n",
              "    .dataframe thead th {\n",
              "        text-align: right;\n",
              "    }\n",
              "</style>\n",
              "<table border=\"1\" class=\"dataframe\">\n",
              "  <thead>\n",
              "    <tr style=\"text-align: right;\">\n",
              "      <th></th>\n",
              "      <th>Id</th>\n",
              "      <th>MSSubClass</th>\n",
              "      <th>MSZoning</th>\n",
              "      <th>LotFrontage</th>\n",
              "      <th>LotArea</th>\n",
              "      <th>Street</th>\n",
              "      <th>Alley</th>\n",
              "      <th>LotShape</th>\n",
              "      <th>LandContour</th>\n",
              "      <th>Utilities</th>\n",
              "      <th>LotConfig</th>\n",
              "      <th>LandSlope</th>\n",
              "      <th>Neighborhood</th>\n",
              "      <th>Condition1</th>\n",
              "      <th>Condition2</th>\n",
              "      <th>BldgType</th>\n",
              "      <th>HouseStyle</th>\n",
              "      <th>OverallQual</th>\n",
              "      <th>OverallCond</th>\n",
              "      <th>YearBuilt</th>\n",
              "      <th>YearRemodAdd</th>\n",
              "      <th>RoofStyle</th>\n",
              "      <th>RoofMatl</th>\n",
              "      <th>Exterior1st</th>\n",
              "      <th>Exterior2nd</th>\n",
              "      <th>MasVnrType</th>\n",
              "      <th>MasVnrArea</th>\n",
              "      <th>ExterQual</th>\n",
              "      <th>ExterCond</th>\n",
              "      <th>Foundation</th>\n",
              "      <th>BsmtQual</th>\n",
              "      <th>BsmtCond</th>\n",
              "      <th>BsmtExposure</th>\n",
              "      <th>BsmtFinType1</th>\n",
              "      <th>BsmtFinSF1</th>\n",
              "      <th>BsmtFinType2</th>\n",
              "      <th>BsmtFinSF2</th>\n",
              "      <th>BsmtUnfSF</th>\n",
              "      <th>TotalBsmtSF</th>\n",
              "      <th>Heating</th>\n",
              "      <th>HeatingQC</th>\n",
              "      <th>CentralAir</th>\n",
              "      <th>Electrical</th>\n",
              "      <th>1stFlrSF</th>\n",
              "      <th>2ndFlrSF</th>\n",
              "      <th>LowQualFinSF</th>\n",
              "      <th>GrLivArea</th>\n",
              "      <th>BsmtFullBath</th>\n",
              "      <th>BsmtHalfBath</th>\n",
              "      <th>FullBath</th>\n",
              "      <th>HalfBath</th>\n",
              "      <th>BedroomAbvGr</th>\n",
              "      <th>KitchenAbvGr</th>\n",
              "      <th>KitchenQual</th>\n",
              "      <th>TotRmsAbvGrd</th>\n",
              "      <th>Functional</th>\n",
              "      <th>Fireplaces</th>\n",
              "      <th>FireplaceQu</th>\n",
              "      <th>GarageType</th>\n",
              "      <th>GarageYrBlt</th>\n",
              "      <th>GarageFinish</th>\n",
              "      <th>GarageCars</th>\n",
              "      <th>GarageArea</th>\n",
              "      <th>GarageQual</th>\n",
              "      <th>GarageCond</th>\n",
              "      <th>PavedDrive</th>\n",
              "      <th>WoodDeckSF</th>\n",
              "      <th>OpenPorchSF</th>\n",
              "      <th>EnclosedPorch</th>\n",
              "      <th>3SsnPorch</th>\n",
              "      <th>ScreenPorch</th>\n",
              "      <th>PoolArea</th>\n",
              "      <th>PoolQC</th>\n",
              "      <th>Fence</th>\n",
              "      <th>MiscFeature</th>\n",
              "      <th>MiscVal</th>\n",
              "      <th>MoSold</th>\n",
              "      <th>YrSold</th>\n",
              "      <th>SaleType</th>\n",
              "      <th>SaleCondition</th>\n",
              "      <th>SalePrice</th>\n",
              "    </tr>\n",
              "  </thead>\n",
              "  <tbody>\n",
              "    <tr>\n",
              "      <th>0</th>\n",
              "      <td>1</td>\n",
              "      <td>0.073375</td>\n",
              "      <td>-0.045532</td>\n",
              "      <td>0.212877</td>\n",
              "      <td>-0.207142</td>\n",
              "      <td>0.064238</td>\n",
              "      <td>0.024699</td>\n",
              "      <td>0.750731</td>\n",
              "      <td>0.314667</td>\n",
              "      <td>-0.02618</td>\n",
              "      <td>0.604670</td>\n",
              "      <td>-0.225716</td>\n",
              "      <td>-1.206215</td>\n",
              "      <td>-0.036289</td>\n",
              "      <td>-0.03174</td>\n",
              "      <td>-0.411691</td>\n",
              "      <td>1.026689</td>\n",
              "      <td>0.651479</td>\n",
              "      <td>-0.517200</td>\n",
              "      <td>1.050994</td>\n",
              "      <td>0.878668</td>\n",
              "      <td>-0.491516</td>\n",
              "      <td>-0.125797</td>\n",
              "      <td>0.743092</td>\n",
              "      <td>0.751626</td>\n",
              "      <td>-1.378962</td>\n",
              "      <td>0.514104</td>\n",
              "      <td>-0.777976</td>\n",
              "      <td>0.364207</td>\n",
              "      <td>0.835599</td>\n",
              "      <td>-0.566939</td>\n",
              "      <td>0.325405</td>\n",
              "      <td>0.651473</td>\n",
              "      <td>-0.510942</td>\n",
              "      <td>0.575425</td>\n",
              "      <td>0.344051</td>\n",
              "      <td>-0.288653</td>\n",
              "      <td>-0.944591</td>\n",
              "      <td>-0.459303</td>\n",
              "      <td>-0.123046</td>\n",
              "      <td>-0.884658</td>\n",
              "      <td>0.263813</td>\n",
              "      <td>0.304256</td>\n",
              "      <td>-0.793434</td>\n",
              "      <td>1.161852</td>\n",
              "      <td>-0.120242</td>\n",
              "      <td>0.370333</td>\n",
              "      <td>1.107810</td>\n",
              "      <td>-0.241061</td>\n",
              "      <td>0.789741</td>\n",
              "      <td>1.227585</td>\n",
              "      <td>0.163779</td>\n",
              "      <td>-0.211454</td>\n",
              "      <td>-0.409369</td>\n",
              "      <td>0.912210</td>\n",
              "      <td>0.255978</td>\n",
              "      <td>-0.951226</td>\n",
              "      <td>-0.075117</td>\n",
              "      <td>-0.768736</td>\n",
              "      <td>0.296026</td>\n",
              "      <td>0.103495</td>\n",
              "      <td>0.311725</td>\n",
              "      <td>0.351000</td>\n",
              "      <td>0.315602</td>\n",
              "      <td>0.295349</td>\n",
              "      <td>0.289745</td>\n",
              "      <td>-0.752176</td>\n",
              "      <td>0.216503</td>\n",
              "      <td>-0.359325</td>\n",
              "      <td>-0.116339</td>\n",
              "      <td>-0.270208</td>\n",
              "      <td>-0.068692</td>\n",
              "      <td>0.063305</td>\n",
              "      <td>-0.008268</td>\n",
              "      <td>-0.185975</td>\n",
              "      <td>-0.087688</td>\n",
              "      <td>-1.599111</td>\n",
              "      <td>0.138777</td>\n",
              "      <td>0.313867</td>\n",
              "      <td>0.208502</td>\n",
              "      <td>12.247694</td>\n",
              "    </tr>\n",
              "    <tr>\n",
              "      <th>1</th>\n",
              "      <td>2</td>\n",
              "      <td>-0.872563</td>\n",
              "      <td>-0.045532</td>\n",
              "      <td>0.645747</td>\n",
              "      <td>-0.091886</td>\n",
              "      <td>0.064238</td>\n",
              "      <td>0.024699</td>\n",
              "      <td>0.750731</td>\n",
              "      <td>0.314667</td>\n",
              "      <td>-0.02618</td>\n",
              "      <td>-0.628316</td>\n",
              "      <td>-0.225716</td>\n",
              "      <td>1.954302</td>\n",
              "      <td>-1.188074</td>\n",
              "      <td>-0.03174</td>\n",
              "      <td>-0.411691</td>\n",
              "      <td>-0.543457</td>\n",
              "      <td>-0.071836</td>\n",
              "      <td>2.179628</td>\n",
              "      <td>0.156734</td>\n",
              "      <td>-0.429577</td>\n",
              "      <td>-0.491516</td>\n",
              "      <td>-0.125797</td>\n",
              "      <td>-0.508251</td>\n",
              "      <td>-0.661060</td>\n",
              "      <td>0.533897</td>\n",
              "      <td>-0.570750</td>\n",
              "      <td>0.663451</td>\n",
              "      <td>0.364207</td>\n",
              "      <td>-0.549162</td>\n",
              "      <td>-0.566939</td>\n",
              "      <td>0.325405</td>\n",
              "      <td>-1.281760</td>\n",
              "      <td>-1.399536</td>\n",
              "      <td>1.171992</td>\n",
              "      <td>0.344051</td>\n",
              "      <td>-0.288653</td>\n",
              "      <td>-0.641228</td>\n",
              "      <td>0.466465</td>\n",
              "      <td>-0.123046</td>\n",
              "      <td>-0.884658</td>\n",
              "      <td>0.263813</td>\n",
              "      <td>0.304256</td>\n",
              "      <td>0.257140</td>\n",
              "      <td>-0.795163</td>\n",
              "      <td>-0.120242</td>\n",
              "      <td>-0.482512</td>\n",
              "      <td>-0.819964</td>\n",
              "      <td>3.948809</td>\n",
              "      <td>0.789741</td>\n",
              "      <td>-0.761621</td>\n",
              "      <td>0.163779</td>\n",
              "      <td>-0.211454</td>\n",
              "      <td>0.795629</td>\n",
              "      <td>-0.318683</td>\n",
              "      <td>0.255978</td>\n",
              "      <td>0.600495</td>\n",
              "      <td>1.638498</td>\n",
              "      <td>-0.768736</td>\n",
              "      <td>0.236495</td>\n",
              "      <td>0.103495</td>\n",
              "      <td>0.311725</td>\n",
              "      <td>-0.060731</td>\n",
              "      <td>0.315602</td>\n",
              "      <td>0.295349</td>\n",
              "      <td>0.289745</td>\n",
              "      <td>1.626195</td>\n",
              "      <td>-0.704483</td>\n",
              "      <td>-0.359325</td>\n",
              "      <td>-0.116339</td>\n",
              "      <td>-0.270208</td>\n",
              "      <td>-0.068692</td>\n",
              "      <td>0.063305</td>\n",
              "      <td>-0.008268</td>\n",
              "      <td>-0.185975</td>\n",
              "      <td>-0.087688</td>\n",
              "      <td>-0.489110</td>\n",
              "      <td>-0.614439</td>\n",
              "      <td>0.313867</td>\n",
              "      <td>0.208502</td>\n",
              "      <td>12.109011</td>\n",
              "    </tr>\n",
              "    <tr>\n",
              "      <th>2</th>\n",
              "      <td>3</td>\n",
              "      <td>0.073375</td>\n",
              "      <td>-0.045532</td>\n",
              "      <td>0.299451</td>\n",
              "      <td>0.073480</td>\n",
              "      <td>0.064238</td>\n",
              "      <td>0.024699</td>\n",
              "      <td>-1.378933</td>\n",
              "      <td>0.314667</td>\n",
              "      <td>-0.02618</td>\n",
              "      <td>0.604670</td>\n",
              "      <td>-0.225716</td>\n",
              "      <td>-1.206215</td>\n",
              "      <td>-0.036289</td>\n",
              "      <td>-0.03174</td>\n",
              "      <td>-0.411691</td>\n",
              "      <td>1.026689</td>\n",
              "      <td>0.651479</td>\n",
              "      <td>-0.517200</td>\n",
              "      <td>0.984752</td>\n",
              "      <td>0.830215</td>\n",
              "      <td>-0.491516</td>\n",
              "      <td>-0.125797</td>\n",
              "      <td>0.743092</td>\n",
              "      <td>0.751626</td>\n",
              "      <td>-1.378962</td>\n",
              "      <td>0.325915</td>\n",
              "      <td>-0.777976</td>\n",
              "      <td>0.364207</td>\n",
              "      <td>0.835599</td>\n",
              "      <td>-0.566939</td>\n",
              "      <td>0.325405</td>\n",
              "      <td>0.007062</td>\n",
              "      <td>-0.510942</td>\n",
              "      <td>0.092907</td>\n",
              "      <td>0.344051</td>\n",
              "      <td>-0.288653</td>\n",
              "      <td>-0.301643</td>\n",
              "      <td>-0.313369</td>\n",
              "      <td>-0.123046</td>\n",
              "      <td>-0.884658</td>\n",
              "      <td>0.263813</td>\n",
              "      <td>0.304256</td>\n",
              "      <td>-0.627826</td>\n",
              "      <td>1.189351</td>\n",
              "      <td>-0.120242</td>\n",
              "      <td>0.515013</td>\n",
              "      <td>1.107810</td>\n",
              "      <td>-0.241061</td>\n",
              "      <td>0.789741</td>\n",
              "      <td>1.227585</td>\n",
              "      <td>0.163779</td>\n",
              "      <td>-0.211454</td>\n",
              "      <td>-0.409369</td>\n",
              "      <td>-0.318683</td>\n",
              "      <td>0.255978</td>\n",
              "      <td>0.600495</td>\n",
              "      <td>1.638498</td>\n",
              "      <td>-0.768736</td>\n",
              "      <td>0.291616</td>\n",
              "      <td>0.103495</td>\n",
              "      <td>0.311725</td>\n",
              "      <td>0.631726</td>\n",
              "      <td>0.315602</td>\n",
              "      <td>0.295349</td>\n",
              "      <td>0.289745</td>\n",
              "      <td>-0.752176</td>\n",
              "      <td>-0.070361</td>\n",
              "      <td>-0.359325</td>\n",
              "      <td>-0.116339</td>\n",
              "      <td>-0.270208</td>\n",
              "      <td>-0.068692</td>\n",
              "      <td>0.063305</td>\n",
              "      <td>-0.008268</td>\n",
              "      <td>-0.185975</td>\n",
              "      <td>-0.087688</td>\n",
              "      <td>0.990891</td>\n",
              "      <td>0.138777</td>\n",
              "      <td>0.313867</td>\n",
              "      <td>0.208502</td>\n",
              "      <td>12.317167</td>\n",
              "    </tr>\n",
              "    <tr>\n",
              "      <th>3</th>\n",
              "      <td>4</td>\n",
              "      <td>0.309859</td>\n",
              "      <td>-0.045532</td>\n",
              "      <td>0.068587</td>\n",
              "      <td>-0.096897</td>\n",
              "      <td>0.064238</td>\n",
              "      <td>0.024699</td>\n",
              "      <td>-1.378933</td>\n",
              "      <td>0.314667</td>\n",
              "      <td>-0.02618</td>\n",
              "      <td>-1.861302</td>\n",
              "      <td>-0.225716</td>\n",
              "      <td>-1.039872</td>\n",
              "      <td>-0.036289</td>\n",
              "      <td>-0.03174</td>\n",
              "      <td>-0.411691</td>\n",
              "      <td>1.026689</td>\n",
              "      <td>0.651479</td>\n",
              "      <td>-0.517200</td>\n",
              "      <td>-1.863632</td>\n",
              "      <td>-0.720298</td>\n",
              "      <td>-0.491516</td>\n",
              "      <td>-0.125797</td>\n",
              "      <td>1.055928</td>\n",
              "      <td>1.316701</td>\n",
              "      <td>0.533897</td>\n",
              "      <td>-0.570750</td>\n",
              "      <td>0.663451</td>\n",
              "      <td>0.364207</td>\n",
              "      <td>-1.933923</td>\n",
              "      <td>0.997770</td>\n",
              "      <td>-2.834848</td>\n",
              "      <td>0.651473</td>\n",
              "      <td>-1.399536</td>\n",
              "      <td>-0.499274</td>\n",
              "      <td>0.344051</td>\n",
              "      <td>-0.288653</td>\n",
              "      <td>-0.061670</td>\n",
              "      <td>-0.687324</td>\n",
              "      <td>-0.123046</td>\n",
              "      <td>0.265476</td>\n",
              "      <td>0.263813</td>\n",
              "      <td>0.304256</td>\n",
              "      <td>-0.521734</td>\n",
              "      <td>0.937276</td>\n",
              "      <td>-0.120242</td>\n",
              "      <td>0.383659</td>\n",
              "      <td>1.107810</td>\n",
              "      <td>-0.241061</td>\n",
              "      <td>-1.026041</td>\n",
              "      <td>-0.761621</td>\n",
              "      <td>0.163779</td>\n",
              "      <td>-0.211454</td>\n",
              "      <td>-0.409369</td>\n",
              "      <td>0.296763</td>\n",
              "      <td>0.255978</td>\n",
              "      <td>0.600495</td>\n",
              "      <td>-0.931925</td>\n",
              "      <td>1.301075</td>\n",
              "      <td>0.285002</td>\n",
              "      <td>0.942959</td>\n",
              "      <td>1.650307</td>\n",
              "      <td>0.790804</td>\n",
              "      <td>0.315602</td>\n",
              "      <td>0.295349</td>\n",
              "      <td>0.289745</td>\n",
              "      <td>-0.752176</td>\n",
              "      <td>-0.176048</td>\n",
              "      <td>4.092524</td>\n",
              "      <td>-0.116339</td>\n",
              "      <td>-0.270208</td>\n",
              "      <td>-0.068692</td>\n",
              "      <td>0.063305</td>\n",
              "      <td>-0.008268</td>\n",
              "      <td>-0.185975</td>\n",
              "      <td>-0.087688</td>\n",
              "      <td>-1.599111</td>\n",
              "      <td>-1.367655</td>\n",
              "      <td>0.313867</td>\n",
              "      <td>-3.426284</td>\n",
              "      <td>11.849398</td>\n",
              "    </tr>\n",
              "    <tr>\n",
              "      <th>4</th>\n",
              "      <td>5</td>\n",
              "      <td>0.073375</td>\n",
              "      <td>-0.045532</td>\n",
              "      <td>0.761179</td>\n",
              "      <td>0.375148</td>\n",
              "      <td>0.064238</td>\n",
              "      <td>0.024699</td>\n",
              "      <td>-1.378933</td>\n",
              "      <td>0.314667</td>\n",
              "      <td>-0.02618</td>\n",
              "      <td>-0.628316</td>\n",
              "      <td>-0.225716</td>\n",
              "      <td>0.457215</td>\n",
              "      <td>-0.036289</td>\n",
              "      <td>-0.03174</td>\n",
              "      <td>-0.411691</td>\n",
              "      <td>1.026689</td>\n",
              "      <td>1.374795</td>\n",
              "      <td>-0.517200</td>\n",
              "      <td>0.951632</td>\n",
              "      <td>0.733308</td>\n",
              "      <td>-0.491516</td>\n",
              "      <td>-0.125797</td>\n",
              "      <td>0.743092</td>\n",
              "      <td>0.751626</td>\n",
              "      <td>-1.378962</td>\n",
              "      <td>1.366489</td>\n",
              "      <td>-0.777976</td>\n",
              "      <td>0.364207</td>\n",
              "      <td>0.835599</td>\n",
              "      <td>-0.566939</td>\n",
              "      <td>0.325405</td>\n",
              "      <td>-1.926170</td>\n",
              "      <td>-0.510942</td>\n",
              "      <td>0.463568</td>\n",
              "      <td>0.344051</td>\n",
              "      <td>-0.288653</td>\n",
              "      <td>-0.174865</td>\n",
              "      <td>0.199680</td>\n",
              "      <td>-0.123046</td>\n",
              "      <td>-0.884658</td>\n",
              "      <td>0.263813</td>\n",
              "      <td>0.304256</td>\n",
              "      <td>-0.045611</td>\n",
              "      <td>1.617877</td>\n",
              "      <td>-0.120242</td>\n",
              "      <td>1.299326</td>\n",
              "      <td>1.107810</td>\n",
              "      <td>-0.241061</td>\n",
              "      <td>0.789741</td>\n",
              "      <td>1.227585</td>\n",
              "      <td>1.390023</td>\n",
              "      <td>-0.211454</td>\n",
              "      <td>-0.409369</td>\n",
              "      <td>1.527656</td>\n",
              "      <td>0.255978</td>\n",
              "      <td>0.600495</td>\n",
              "      <td>1.638498</td>\n",
              "      <td>-0.768736</td>\n",
              "      <td>0.289412</td>\n",
              "      <td>0.103495</td>\n",
              "      <td>1.650307</td>\n",
              "      <td>1.698485</td>\n",
              "      <td>0.315602</td>\n",
              "      <td>0.295349</td>\n",
              "      <td>0.289745</td>\n",
              "      <td>0.780197</td>\n",
              "      <td>0.563760</td>\n",
              "      <td>-0.359325</td>\n",
              "      <td>-0.116339</td>\n",
              "      <td>-0.270208</td>\n",
              "      <td>-0.068692</td>\n",
              "      <td>0.063305</td>\n",
              "      <td>-0.008268</td>\n",
              "      <td>-0.185975</td>\n",
              "      <td>-0.087688</td>\n",
              "      <td>2.100892</td>\n",
              "      <td>0.138777</td>\n",
              "      <td>0.313867</td>\n",
              "      <td>0.208502</td>\n",
              "      <td>12.429216</td>\n",
              "    </tr>\n",
              "  </tbody>\n",
              "</table>\n",
              "</div>"
            ],
            "text/plain": [
              "   Id  MSSubClass  MSZoning  LotFrontage   LotArea    Street     Alley  \\\n",
              "0   1    0.073375 -0.045532     0.212877 -0.207142  0.064238  0.024699   \n",
              "1   2   -0.872563 -0.045532     0.645747 -0.091886  0.064238  0.024699   \n",
              "2   3    0.073375 -0.045532     0.299451  0.073480  0.064238  0.024699   \n",
              "3   4    0.309859 -0.045532     0.068587 -0.096897  0.064238  0.024699   \n",
              "4   5    0.073375 -0.045532     0.761179  0.375148  0.064238  0.024699   \n",
              "\n",
              "   LotShape  LandContour  Utilities  LotConfig  LandSlope  Neighborhood  \\\n",
              "0  0.750731     0.314667   -0.02618   0.604670  -0.225716     -1.206215   \n",
              "1  0.750731     0.314667   -0.02618  -0.628316  -0.225716      1.954302   \n",
              "2 -1.378933     0.314667   -0.02618   0.604670  -0.225716     -1.206215   \n",
              "3 -1.378933     0.314667   -0.02618  -1.861302  -0.225716     -1.039872   \n",
              "4 -1.378933     0.314667   -0.02618  -0.628316  -0.225716      0.457215   \n",
              "\n",
              "   Condition1  Condition2  BldgType  HouseStyle  OverallQual  OverallCond  \\\n",
              "0   -0.036289    -0.03174 -0.411691    1.026689     0.651479    -0.517200   \n",
              "1   -1.188074    -0.03174 -0.411691   -0.543457    -0.071836     2.179628   \n",
              "2   -0.036289    -0.03174 -0.411691    1.026689     0.651479    -0.517200   \n",
              "3   -0.036289    -0.03174 -0.411691    1.026689     0.651479    -0.517200   \n",
              "4   -0.036289    -0.03174 -0.411691    1.026689     1.374795    -0.517200   \n",
              "\n",
              "   YearBuilt  YearRemodAdd  RoofStyle  RoofMatl  Exterior1st  Exterior2nd  \\\n",
              "0   1.050994      0.878668  -0.491516 -0.125797     0.743092     0.751626   \n",
              "1   0.156734     -0.429577  -0.491516 -0.125797    -0.508251    -0.661060   \n",
              "2   0.984752      0.830215  -0.491516 -0.125797     0.743092     0.751626   \n",
              "3  -1.863632     -0.720298  -0.491516 -0.125797     1.055928     1.316701   \n",
              "4   0.951632      0.733308  -0.491516 -0.125797     0.743092     0.751626   \n",
              "\n",
              "   MasVnrType  MasVnrArea  ExterQual  ExterCond  Foundation  BsmtQual  \\\n",
              "0   -1.378962    0.514104  -0.777976   0.364207    0.835599 -0.566939   \n",
              "1    0.533897   -0.570750   0.663451   0.364207   -0.549162 -0.566939   \n",
              "2   -1.378962    0.325915  -0.777976   0.364207    0.835599 -0.566939   \n",
              "3    0.533897   -0.570750   0.663451   0.364207   -1.933923  0.997770   \n",
              "4   -1.378962    1.366489  -0.777976   0.364207    0.835599 -0.566939   \n",
              "\n",
              "   BsmtCond  BsmtExposure  BsmtFinType1  BsmtFinSF1  BsmtFinType2  BsmtFinSF2  \\\n",
              "0  0.325405      0.651473     -0.510942    0.575425      0.344051   -0.288653   \n",
              "1  0.325405     -1.281760     -1.399536    1.171992      0.344051   -0.288653   \n",
              "2  0.325405      0.007062     -0.510942    0.092907      0.344051   -0.288653   \n",
              "3 -2.834848      0.651473     -1.399536   -0.499274      0.344051   -0.288653   \n",
              "4  0.325405     -1.926170     -0.510942    0.463568      0.344051   -0.288653   \n",
              "\n",
              "   BsmtUnfSF  TotalBsmtSF   Heating  HeatingQC  CentralAir  Electrical  \\\n",
              "0  -0.944591    -0.459303 -0.123046  -0.884658    0.263813    0.304256   \n",
              "1  -0.641228     0.466465 -0.123046  -0.884658    0.263813    0.304256   \n",
              "2  -0.301643    -0.313369 -0.123046  -0.884658    0.263813    0.304256   \n",
              "3  -0.061670    -0.687324 -0.123046   0.265476    0.263813    0.304256   \n",
              "4  -0.174865     0.199680 -0.123046  -0.884658    0.263813    0.304256   \n",
              "\n",
              "   1stFlrSF  2ndFlrSF  LowQualFinSF  GrLivArea  BsmtFullBath  BsmtHalfBath  \\\n",
              "0 -0.793434  1.161852     -0.120242   0.370333      1.107810     -0.241061   \n",
              "1  0.257140 -0.795163     -0.120242  -0.482512     -0.819964      3.948809   \n",
              "2 -0.627826  1.189351     -0.120242   0.515013      1.107810     -0.241061   \n",
              "3 -0.521734  0.937276     -0.120242   0.383659      1.107810     -0.241061   \n",
              "4 -0.045611  1.617877     -0.120242   1.299326      1.107810     -0.241061   \n",
              "\n",
              "   FullBath  HalfBath  BedroomAbvGr  KitchenAbvGr  KitchenQual  TotRmsAbvGrd  \\\n",
              "0  0.789741  1.227585      0.163779     -0.211454    -0.409369      0.912210   \n",
              "1  0.789741 -0.761621      0.163779     -0.211454     0.795629     -0.318683   \n",
              "2  0.789741  1.227585      0.163779     -0.211454    -0.409369     -0.318683   \n",
              "3 -1.026041 -0.761621      0.163779     -0.211454    -0.409369      0.296763   \n",
              "4  0.789741  1.227585      1.390023     -0.211454    -0.409369      1.527656   \n",
              "\n",
              "   Functional  Fireplaces  FireplaceQu  GarageType  GarageYrBlt  GarageFinish  \\\n",
              "0    0.255978   -0.951226    -0.075117   -0.768736     0.296026      0.103495   \n",
              "1    0.255978    0.600495     1.638498   -0.768736     0.236495      0.103495   \n",
              "2    0.255978    0.600495     1.638498   -0.768736     0.291616      0.103495   \n",
              "3    0.255978    0.600495    -0.931925    1.301075     0.285002      0.942959   \n",
              "4    0.255978    0.600495     1.638498   -0.768736     0.289412      0.103495   \n",
              "\n",
              "   GarageCars  GarageArea  GarageQual  GarageCond  PavedDrive  WoodDeckSF  \\\n",
              "0    0.311725    0.351000    0.315602    0.295349    0.289745   -0.752176   \n",
              "1    0.311725   -0.060731    0.315602    0.295349    0.289745    1.626195   \n",
              "2    0.311725    0.631726    0.315602    0.295349    0.289745   -0.752176   \n",
              "3    1.650307    0.790804    0.315602    0.295349    0.289745   -0.752176   \n",
              "4    1.650307    1.698485    0.315602    0.295349    0.289745    0.780197   \n",
              "\n",
              "   OpenPorchSF  EnclosedPorch  3SsnPorch  ScreenPorch  PoolArea    PoolQC  \\\n",
              "0     0.216503      -0.359325  -0.116339    -0.270208 -0.068692  0.063305   \n",
              "1    -0.704483      -0.359325  -0.116339    -0.270208 -0.068692  0.063305   \n",
              "2    -0.070361      -0.359325  -0.116339    -0.270208 -0.068692  0.063305   \n",
              "3    -0.176048       4.092524  -0.116339    -0.270208 -0.068692  0.063305   \n",
              "4     0.563760      -0.359325  -0.116339    -0.270208 -0.068692  0.063305   \n",
              "\n",
              "      Fence  MiscFeature   MiscVal    MoSold    YrSold  SaleType  \\\n",
              "0 -0.008268    -0.185975 -0.087688 -1.599111  0.138777  0.313867   \n",
              "1 -0.008268    -0.185975 -0.087688 -0.489110 -0.614439  0.313867   \n",
              "2 -0.008268    -0.185975 -0.087688  0.990891  0.138777  0.313867   \n",
              "3 -0.008268    -0.185975 -0.087688 -1.599111 -1.367655  0.313867   \n",
              "4 -0.008268    -0.185975 -0.087688  2.100892  0.138777  0.313867   \n",
              "\n",
              "   SaleCondition  SalePrice  \n",
              "0       0.208502  12.247694  \n",
              "1       0.208502  12.109011  \n",
              "2       0.208502  12.317167  \n",
              "3      -3.426284  11.849398  \n",
              "4       0.208502  12.429216  "
            ]
          },
          "metadata": {
            "tags": []
          }
        }
      ]
    },
    {
      "metadata": {
        "id": "KGwjfGTE9wOB",
        "colab_type": "text"
      },
      "cell_type": "markdown",
      "source": [
        "###Step 5: Split and predict\n",
        "\n",
        "TPOT regressor can take a while to run. The setup below (3 generations, default populations, negative mean squared error scoring) took over 30 minutes."
      ]
    },
    {
      "metadata": {
        "id": "ARLXGoPNdo0T",
        "colab_type": "code",
        "colab": {
          "base_uri": "https://localhost:8080/",
          "height": 275
        },
        "outputId": "10210479-8179-477d-fd40-d2c73217bcac"
      },
      "cell_type": "code",
      "source": [
        "y = train[\"SalePrice\"]\n",
        "X1 = train[vlist]\n",
        "\n",
        "X_train, X_test, y_train, y_test = train_test_split(X1,y, train_size=0.75, test_size=0.25)\n",
        "\n",
        "tpot = TPOTRegressor(generations=3, verbosity=2, scoring='neg_mean_squared_error')\n",
        "tpot.fit(X_train, y_train)"
      ],
      "execution_count": 27,
      "outputs": [
        {
          "output_type": "stream",
          "text": [
            "Optimization Progress:  50%|█████     | 200/400 [10:35<02:49,  1.18pipeline/s]"
          ],
          "name": "stderr"
        },
        {
          "output_type": "stream",
          "text": [
            "Generation 1 - Current best internal CV score: -0.018323394277308374\n"
          ],
          "name": "stdout"
        },
        {
          "output_type": "stream",
          "text": [
            "Optimization Progress:  75%|███████▌  | 300/400 [19:09<02:08,  1.28s/pipeline]"
          ],
          "name": "stderr"
        },
        {
          "output_type": "stream",
          "text": [
            "Generation 2 - Current best internal CV score: -0.0182127926822875\n"
          ],
          "name": "stdout"
        },
        {
          "output_type": "stream",
          "text": [
            ""
          ],
          "name": "stderr"
        },
        {
          "output_type": "stream",
          "text": [
            "Generation 3 - Current best internal CV score: -0.018189074178807517\n",
            "\n",
            "Best pipeline: XGBRegressor(KNeighborsRegressor(LassoLarsCV(input_matrix, normalize=False), n_neighbors=19, p=1, weights=uniform), learning_rate=0.1, max_depth=7, min_child_weight=15, n_estimators=100, nthread=1, subsample=0.9500000000000001)\n"
          ],
          "name": "stdout"
        },
        {
          "output_type": "execute_result",
          "data": {
            "text/plain": [
              "TPOTRegressor(config_dict={'sklearn.linear_model.ElasticNetCV': {'l1_ratio': array([0.  , 0.05, 0.1 , 0.15, 0.2 , 0.25, 0.3 , 0.35, 0.4 , 0.45, 0.5 ,\n",
              "       0.55, 0.6 , 0.65, 0.7 , 0.75, 0.8 , 0.85, 0.9 , 0.95, 1.  ]), 'tol': [1e-05, 0.0001, 0.001, 0.01, 0.1]}, 'sklearn.ensemble.ExtraTreesRegressor': {'n_estimato....3 , 0.35, 0.4 , 0.45, 0.5 , 0.55,\n",
              "       0.6 , 0.65, 0.7 , 0.75, 0.8 , 0.85, 0.9 , 0.95, 1.  ])}}}},\n",
              "       crossover_rate=0.1, cv=5, disable_update_check=False,\n",
              "       early_stop=None, generations=3, max_eval_time_mins=5,\n",
              "       max_time_mins=None, memory=None, mutation_rate=0.9, n_jobs=1,\n",
              "       offspring_size=100, periodic_checkpoint_folder=None,\n",
              "       population_size=100, random_state=None, scoring=None, subsample=1.0,\n",
              "       verbosity=2, warm_start=False)"
            ]
          },
          "metadata": {
            "tags": []
          },
          "execution_count": 27
        }
      ]
    },
    {
      "metadata": {
        "id": "KBYanICc_P9B",
        "colab_type": "text"
      },
      "cell_type": "markdown",
      "source": [
        "###Step 6: Check the model results on the test split"
      ]
    },
    {
      "metadata": {
        "id": "8Sj9se1d4leO",
        "colab_type": "code",
        "colab": {
          "base_uri": "https://localhost:8080/",
          "height": 34
        },
        "outputId": "787c761c-c794-4032-ed05-59676dcd374a"
      },
      "cell_type": "code",
      "source": [
        "ypred = tpot.predict(X_test)\n",
        "ypred2 = np.exp(ypred)\n",
        "y_test2 = np.exp(y_test)\n",
        "fullprint(rmsle(y_test2,ypred2))"
      ],
      "execution_count": 31,
      "outputs": [
        {
          "output_type": "display_data",
          "data": {
            "text/plain": [
              "0.12587518669821887"
            ]
          },
          "metadata": {
            "tags": []
          }
        }
      ]
    },
    {
      "metadata": {
        "id": "KeAe3Rxm_ULu",
        "colab_type": "text"
      },
      "cell_type": "markdown",
      "source": [
        "Not bad, considering I didn't really do any feature engineering."
      ]
    },
    {
      "metadata": {
        "id": "uLrzcjQ_o8UE",
        "colab_type": "code",
        "colab": {
          "base_uri": "https://localhost:8080/",
          "height": 361
        },
        "outputId": "3d94b216-ce66-4e76-ec6a-25a94b999499"
      },
      "cell_type": "code",
      "source": [
        "plt.scatter(ypred2, y_test2, c = \"black\")\n",
        "plt.xlabel(\"Predicted values\")\n",
        "plt.ylabel(\"Real values\")\n",
        "plt.legend(loc = \"upper left\")\n",
        "plt.show()"
      ],
      "execution_count": 25,
      "outputs": [
        {
          "output_type": "display_data",
          "data": {
            "image/png": "[encoded data removed]",
            "text/plain": [
              "<matplotlib.figure.Figure at 0x7fed5c68f5c0>"
            ]
          },
          "metadata": {
            "tags": []
          }
        }
      ]
    },
    {
      "metadata": {
        "id": "5vvNINgD_-WB",
        "colab_type": "text"
      },
      "cell_type": "markdown",
      "source": [
        "###Step 7: Create predictions for submission"
      ]
    },
    {
      "metadata": {
        "id": "CbedR-yazDat",
        "colab_type": "code",
        "colab": {
          "base_uri": "https://localhost:8080/",
          "height": 17
        },
        "outputId": "fbf3aacc-143c-41f3-aa8e-1d4809d60947"
      },
      "cell_type": "code",
      "source": [
        "submission = tpot.predict(test[vlist])\n",
        "sub2 = np.exp(submission)\n",
        "\n",
        "\n",
        "submission2 = pd.DataFrame({\n",
        "        \"Id\": test[\"Id\"],\n",
        "        \"SalePrice\": sub2\n",
        "    })\n",
        "\n",
        "submission2.to_csv('submission.csv', header=True,index=False)\n",
        "files.download('submission.csv')"
      ],
      "execution_count": 26,
      "outputs": []
    },
    {
      "metadata": {
        "id": "kM45kqlU_e0k",
        "colab_type": "code",
        "colab": {
          "base_uri": "https://localhost:8080/",
          "height": 17
        },
        "outputId": "82cca9e6-49f6-4936-e3f2-46865341c18e"
      },
      "cell_type": "code",
      "source": [
        "# X_test = X_test[X_train.columns]\n",
        "# tpot.export('tpot_SalePrice.py')\n",
        "# %load 'tpot_SalePrice.py'\n",
        "# print(tpot.fitted_pipeline_)"
      ],
      "execution_count": 35,
      "outputs": []
    }
  ]
}